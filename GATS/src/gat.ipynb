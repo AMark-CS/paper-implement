{
 "cells": [
  {
   "cell_type": "markdown",
   "metadata": {},
   "source": [
    "# 一、导入相关库包"
   ]
  },
  {
   "cell_type": "code",
   "execution_count": 48,
   "metadata": {},
   "outputs": [],
   "source": [
    "import numpy as np\n",
    "import pandas as pd\n",
    "import matplotlib.pyplot as plt\n",
    "import torch  # 张量库\n",
    "import torch.nn.functional as Func  # 激活函数\n",
    "import torch.nn as nn  # 神经网络模块\n",
    "from sklearn.preprocessing import LabelEncoder # 标签编码\n",
    "from torch.utils.data import DataLoader, TensorDataset # 数据加载器，数据集\n",
    "import time # 计时器"
   ]
  },
  {
   "cell_type": "markdown",
   "metadata": {},
   "source": [
    "# 二、数据导入和预处理"
   ]
  },
  {
   "cell_type": "markdown",
   "metadata": {},
   "source": [
    "## 2.1 数据导入"
   ]
  },
  {
   "cell_type": "code",
   "execution_count": 49,
   "metadata": {},
   "outputs": [
    {
     "name": "stdout",
     "output_type": "stream",
     "text": [
      "cora_cites:\n",
      "     0        1\n",
      "0  35     1033\n",
      "1  35   103482\n",
      "2  35   103515\n",
      "3  35  1050679\n",
      "4  35  1103960\n",
      "cora:\n",
      "    0     1     2     3     4     5     6     7     8     9     ...  1425  \\\n",
      "0   462     0     0     0     0     0     0     0     0     0  ...     0   \n",
      "1  1911     0     0     0     0     0     0     0     0     0  ...     0   \n",
      "2  2002     0     0     0     0     0     0     0     0     0  ...     0   \n",
      "3   248     0     0     0     0     0     0     0     0     0  ...     0   \n",
      "4   519     0     0     0     0     0     0     0     0     0  ...     0   \n",
      "\n",
      "   1426  1427  1428  1429  1430  1431  1432  1433                    1434  \n",
      "0     0     1     0     0     0     0     0     0         Neural_Networks  \n",
      "1     1     0     0     0     0     0     0     0           Rule_Learning  \n",
      "2     0     0     0     0     0     0     0     0  Reinforcement_Learning  \n",
      "3     0     0     0     0     0     0     0     0  Reinforcement_Learning  \n",
      "4     0     0     0     0     0     0     0     0   Probabilistic_Methods  \n",
      "\n",
      "[5 rows x 1435 columns]\n"
     ]
    }
   ],
   "source": [
    "# cora数据集导入\n",
    "cora_path = '../dataset/cora/cora.content'\n",
    "cora = pd.read_csv(cora_path, sep='\\t', header=None)\n",
    "cora_cites = pd.read_csv('../dataset/cora/cora.cites', sep='\\t', header=None)\n",
    "print('cora_cites:\\n',cora_cites.head())\n",
    "# print('cora:\\n',cora.head())\n",
    "# 将编号转换成0-2707，方便进行下下标索引\n",
    "labelencoder = LabelEncoder()\n",
    "cora[0] = labelencoder.fit_transform(cora[0])\n",
    "print('cora:\\n',cora.head())\n"
   ]
  },
  {
   "cell_type": "markdown",
   "metadata": {},
   "source": [
    "## 2.2 数据预处理"
   ]
  },
  {
   "cell_type": "code",
   "execution_count": 50,
   "metadata": {},
   "outputs": [
    {
     "name": "stdout",
     "output_type": "stream",
     "text": [
      "节点数量: 2708\n",
      "特征数量: 1433\n",
      "标签:\n",
      " ['Neural_Networks' 'Rule_Learning' 'Reinforcement_Learning' ...\n",
      " 'Genetic_Algorithms' 'Case_Based' 'Neural_Networks']\n",
      "标签编码:\n",
      " [2 5 4 ... 1 0 2]\n",
      "edges:\n",
      " [[   0   21]\n",
      " [   0  905]\n",
      " [   0  906]\n",
      " ...\n",
      " [1874 2586]\n",
      " [1876 1874]\n",
      " [1897 2707]]\n",
      "邻接矩阵:\n",
      " [[0. 0. 0. ... 0. 0. 0.]\n",
      " [0. 0. 0. ... 0. 0. 0.]\n",
      " [0. 0. 0. ... 0. 0. 0.]\n",
      " ...\n",
      " [0. 0. 0. ... 0. 0. 0.]\n",
      " [0. 0. 0. ... 0. 0. 0.]\n",
      " [0. 0. 0. ... 0. 0. 0.]]\n"
     ]
    }
   ],
   "source": [
    "# 定义初始化参数\n",
    "N = cora.shape[0] # 节点数量，即数据集的行数\n",
    "F = cora.shape[1] - 2 # 特征数量，即数据集的列数减去编号和标签两列\n",
    "print('节点数量:', N)\n",
    "print('特征数量:', F)\n",
    "# 定义标签\n",
    "labels = cora.iloc[:, -1].values\n",
    "print('标签:\\n', labels)\n",
    "# 对标签进行热度编码\n",
    "label_encoder = LabelEncoder()\n",
    "labels = label_encoder.fit_transform(labels)\n",
    "print('标签编码:\\n', labels)\n",
    "\n",
    "# 根据cites生成邻接矩阵\n",
    "edges = np.array(cora_cites)\n",
    "# 对edges进行处理，将边的两个节点的编号转换成0-2707\n",
    "for i in range(edges.shape[0]):\n",
    "    edges[i][0] = labelencoder.transform([edges[i][0]])[0]\n",
    "    edges[i][1] = labelencoder.transform([edges[i][1]])[0]\n",
    "print('edges:\\n', edges)\n",
    "# 创建邻接矩阵\n",
    "adj_matrix = np.zeros((N, N))\n",
    "# 根据边的信息初始化邻接矩阵，这里直接生成了对称矩阵，即无向图\n",
    "for i in range(edges.shape[0]):\n",
    "    adj_matrix[edges[i][0]][edges[i][1]] = 1\n",
    "    adj_matrix[edges[i][1]][edges[i][0]] = 1\n",
    "print('邻接矩阵:\\n', adj_matrix)\n",
    "# 将邻接矩阵保存到本地\n",
    "np.savetxt('../output/cora/adj_matrix.txt', adj_matrix, fmt='%d')"
   ]
  },
  {
   "cell_type": "code",
   "execution_count": 51,
   "metadata": {},
   "outputs": [
    {
     "name": "stdout",
     "output_type": "stream",
     "text": [
      "features: tensor([[0., 0., 0.,  ..., 0., 0., 0.],\n",
      "        [0., 0., 0.,  ..., 0., 0., 0.],\n",
      "        [0., 0., 0.,  ..., 0., 0., 0.],\n",
      "        ...,\n",
      "        [0., 0., 0.,  ..., 0., 0., 0.],\n",
      "        [0., 0., 0.,  ..., 0., 0., 0.],\n",
      "        [0., 0., 0.,  ..., 0., 0., 0.]]) \n",
      "features type: <class 'torch.Tensor'> \n",
      "features shape: torch.Size([2708, 1433]) \n",
      "\n",
      "label: tensor([2, 5, 4,  ..., 1, 0, 2]) \n",
      "label type: <class 'torch.Tensor'> \n",
      "label shape: torch.Size([2708]) \n",
      "\n",
      "adj_matrix: tensor([[0., 0., 0.,  ..., 0., 0., 0.],\n",
      "        [0., 0., 0.,  ..., 0., 0., 0.],\n",
      "        [0., 0., 0.,  ..., 0., 0., 0.],\n",
      "        ...,\n",
      "        [0., 0., 0.,  ..., 0., 0., 0.],\n",
      "        [0., 0., 0.,  ..., 0., 0., 0.],\n",
      "        [0., 0., 0.,  ..., 0., 0., 0.]]) \n",
      "adj_matrix type: <class 'torch.Tensor'> \n",
      "adj_matrix shape: torch.Size([2708, 2708]) \n",
      "\n"
     ]
    }
   ],
   "source": [
    "# 将数据转化成tensor\n",
    "features = torch.FloatTensor(cora.iloc[:, 1:1+F].values) # 这里features的大小是(2708, 1433)，即2708个节点，每个节点有1433个特征,F=1433,N=2708\n",
    "labels = torch.LongTensor(labels) # 这里labels的大小是(2708,)，形状是N行1列的列向量数据序列\n",
    "adj_matrix = torch.FloatTensor(adj_matrix) # 这里adj_matrix的大小是(2708, 2708) ，即N行N列的邻接矩阵\n",
    "print('features:', features,'\\nfeatures type:', type(features), '\\nfeatures shape:', features.shape,'\\n')\n",
    "print('label:', labels, '\\nlabel type:', type(labels), '\\nlabel shape:', labels.shape,'\\n')\n",
    "print('adj_matrix:', adj_matrix, '\\nadj_matrix type:', type(adj_matrix), '\\nadj_matrix shape:', adj_matrix.shape,'\\n')"
   ]
  },
  {
   "attachments": {
    "image.png": {
     "image/png": "[encoded data removed]"
    }
   },
   "cell_type": "markdown",
   "metadata": {},
   "source": [
    "# 三、模型定义\n",
    "![image.png](attachment:image.png)"
   ]
  },
  {
   "cell_type": "markdown",
   "metadata": {},
   "source": [
    "## 3.1 Transductive部分"
   ]
  },
  {
   "cell_type": "markdown",
   "metadata": {},
   "source": [
    "![](https://img-blog.csdnimg.cn/direct/dc40ca5d422d4763a207c01435e72794.png)\n",
    "\n",
    "Transductive Learning的部分，蓝色的部分是可以适用于Cora数据集和Citeseer数据集的模型参数；绿色部分是为了Pubmed数据集修改的参数：\n",
    "- 第一层：\n",
    "\t- 多头注意力 K = 8 \n",
    "\t- 输出维度 F' = 8\n",
    "\t- 激活函数用 ELU\n",
    "- 第二层：\n",
    "\t- 一个单注意力层\n",
    "\t- 输出只有一个attention head，如果是Pubmed则修改为8个\n",
    "- 训练参数：\n",
    "\t- $\\lambda$ = 0.0005，如果是Pubmed则修改成0.001\n",
    "\t- $p$ = 0.6"
   ]
  },
  {
   "cell_type": "markdown",
   "metadata": {},
   "source": [
    "第一步计算：\n",
    "$e_{ij}=a(\\mathbf{W}\\vec{h}_i,\\mathbf{W}\\vec{h}_j)$"
   ]
  },
  {
   "cell_type": "markdown",
   "metadata": {},
   "source": [
    "第二步计算：\n",
    "$\\alpha_{ij}=\\mathrm{softmax}_j(e_{ij})=\\frac{\\exp(e_{ij})}{\\sum_{k\\in\\mathcal{N}_i}\\exp(e_{ik})}.$"
   ]
  },
  {
   "cell_type": "markdown",
   "metadata": {},
   "source": [
    "综合计算公式：\n",
    "$\\alpha_{ij}=\\frac{\\exp\\left(\\text{LeakyReLU}\\left(\\vec{\\mathbf{a}}^T[\\mathbf{W}\\vec{h}_i\\|\\mathbf{W}\\vec{h}_j]\\right)\\right)}{\\sum_{k\\in\\mathcal{N}_i}\\exp\\left(\\text{LeakyReLU}\\left(\\vec{\\mathbf{a}}^T[\\mathbf{W}\\vec{h}_i\\|\\mathbf{W}\\vec{h}_k]\\right)\\right)}$"
   ]
  },
  {
   "cell_type": "code",
   "execution_count": 52,
   "metadata": {},
   "outputs": [],
   "source": [
    "class Gat_Layer(nn.Module):\n",
    "    # in_feature就是F, out_feature就是F'\n",
    "    def __init__(self, in_feature, out_feature, dropout, concat=True):\n",
    "        super(Gat_Layer, self).__init__()\n",
    "        self.in_feature = in_feature # 输入维度,这里维度是F*N\n",
    "        self.out_feature = out_feature # 输出维度,这里是F' = 8\n",
    "        # 定义网络层参数并初始化\n",
    "        self.W = nn.Parameter(torch.zeros(size=(in_feature, out_feature))) #权重矩阵W,大小是F*F',这里换一下是因为在dataloader载入数据的时候相同的维度是N而不是F，行信息是N,而不是论文中所说的特征F\n",
    "        self.alfa = nn.Parameter(torch.zeros(size=(2*out_feature, 1))) #权重列向量alfa,形状是2F'*1\n",
    "\n",
    "        nn.init.xavier_uniform_(self.W.data, gain=1.414) # 使用xavier初始化方法初始化W，gain是用于计算权重的增益因子\n",
    "        nn.init.xavier_uniform_(self.alfa.data, gain=1.414)\n",
    "\n",
    "        # 定义LeakyRelu激活函数\n",
    "        self.leakyrelu = nn.LeakyReLU(0.2)\n",
    "\n",
    "        # dropout操作\n",
    "        self.dropout = dropout\n",
    "        self.concat = concat\n",
    "\n",
    "    def forward(self, node_fearures, adj_nodes):\n",
    "        # # 这里减少内存使用记h = W * h(输入)\n",
    "        # Whi = torch.matmul(self.W, node_fearures) # [F',F] * [F,N] = [F',N]\n",
    "        # Whj = Whi\n",
    "        \n",
    "        # # 这里遇到了需要遍历所有节点的问题，这里可以使用矩阵运算来解决\n",
    "        # aWh = torch.matmul(self.alfa.T, torch.cat([Whi, Whj], dim=0)) # [1,2F'] * [2F',N] = [1,N]\n",
    "        # e = self.leakyrelu(aWh) # [1,N],其中每个元素都是一个注意力系数，对应一个节点\n",
    "\n",
    "        h = torch.matmul(node_fearures, self.W) # [N,F] * [F,F'] = [N,F']\n",
    "        N = h.shape[0] # 节点数量\n",
    "\n",
    "        # 计算注意力系数\n",
    "        a_input = torch.cat([h.repeat(1, N).view(N * N, -1), h.repeat(N, 1)], dim=1).view(N, -1, 2 * self.out_feature)\n",
    "        e = self.leakyrelu(torch.matmul(a_input, self.alfa).squeeze(2)) # [N,N]\n",
    "\n",
    "        # 求邻接节点的注意力系数\n",
    "        zero_vec = -9e15*torch.ones_like(e)\n",
    "        attention = torch.where(adj_nodes > 0, e, zero_vec)\n",
    "        attention = Func.softmax(attention, dim=1)\n",
    "        attention = Func.dropout(attention, self.dropout, training=self.training)\n",
    "\n",
    "        # 更新节点特征\n",
    "        h_prime = torch.matmul(attention, h)\n",
    "        \n",
    "        \n",
    "        if self.concat:\n",
    "            return Func.elu(h_prime)\n",
    "        else:\n",
    "            return h_prime"
   ]
  },
  {
   "cell_type": "markdown",
   "metadata": {},
   "source": [
    "h'计算公式：\n",
    "$\\vec{h}_i'=\\sigma\\left(\\sum_{j\\in\\mathcal{N}_i}\\alpha_{ij}\\mathbf{W}\\vec{h}_j\\right).$"
   ]
  },
  {
   "cell_type": "markdown",
   "metadata": {},
   "source": [
    "用拼接的方法(这里求乘积的符号理解成||拼接)：\n",
    "$\\vec{h}_i'=\\prod\\limits_{k=1}^K\\sigma\\left(\\sum\\limits_{j\\in\\mathcal{N}_i}\\alpha_{ij}^k\\mathbf{W}^k\\vec{h}_j\\right)$"
   ]
  },
  {
   "cell_type": "markdown",
   "metadata": {},
   "source": [
    "用计算平均值的方法：\n",
    "$\\vec{h}_i^{\\prime}=\\sigma\\left(\\frac1K\\sum_{k=1}^K\\sum_{j\\in\\mathcal{N}_i}\\alpha_{ij}^k\\mathbf{W}^k\\vec{h}_j\\right)$"
   ]
  },
  {
   "cell_type": "markdown",
   "metadata": {},
   "source": [
    "根据单层的组合构建GAT网络架构"
   ]
  },
  {
   "cell_type": "code",
   "execution_count": 53,
   "metadata": {},
   "outputs": [],
   "source": [
    "class GAT_Network(nn.Module):\n",
    "\t# 定义GAT网络架构\n",
    "\t# feature_num: 输入特征数量\n",
    "\t# out_feature: 输出特征数量\n",
    "\t# class_num: 分类数量\n",
    "\t# heads_num: 多头注意力数量\n",
    "\t# dropout: dropout概率,这里就是0.6\n",
    "\tdef __init__(self, feature_num, out_feature, class_num, heads_num, dropout):\n",
    "\t\tsuper(GAT_Network, self).__init__()\n",
    "\t\tself.dropout = dropout\n",
    "\t\t# 定义多头注意力,实现的原理是将输入特征分成多个子特征，然后分别进行注意力计算，最后将结果拼接起来\n",
    "\t\tself.attention = [Gat_Layer(feature_num, out_feature, dropout) for _ in range(heads_num)]\n",
    "\t\tfor i, attention in enumerate(self.attention):\n",
    "\t\t\tself.add_module('attention_{}'.format(i), attention) # 对应可视化图就是实现多个箭头指向中间那个节点用来计算注意力\n",
    "\n",
    "\t\tself.output = Gat_Layer(out_feature*heads_num, class_num, dropout) # 输出层，这里是将多头注意力的结果拼接起来，然后再进行分类 TODO:理解concat过程以及为什么要使用comcat和为什么不使用concat\n",
    "\n",
    "\t#TODO 理解这个forward函数\n",
    "\tdef forward(self, node_features, adj_nodes):\n",
    "\t\tx = Func.dropout(node_features, self.dropout, training=self.training) # dropout操作\n",
    "\t\tx = torch.cat([att(node_features, adj_nodes) for att in self.attention], dim=1) # 将多头注意力的结果拼接起来\n",
    "\t\tx = Func.dropout(x, self.dropout, training=self.training) # dropout操作\n",
    "\t\tx = Func.elu(self.output(x, adj_nodes)) # 输出层，这里是将多头注意力的结果拼接起来，然后再进行分类\n",
    "\t\treturn Func.log_softmax(x, dim=1) # softmax操作,这里使用的是log_softmax"
   ]
  },
  {
   "cell_type": "markdown",
   "metadata": {},
   "source": [
    "## 3.2 Inductive Learning部分"
   ]
  },
  {
   "cell_type": "markdown",
   "metadata": {},
   "source": [
    "![在这里插入图片描述](https://img-blog.csdnimg.cn/direct/4d8a4782d20c480e91ed2f37a26002c7.png)\n",
    "\n",
    "Inductive Learning的部分，定义了三层的GAT模型，同时给出了参数设置：\n",
    "- 前两层参数定义：\n",
    "\t- 多头注意力 K = 4\n",
    "\t- 输出维度 F' = 256\n",
    "\t- 激活函数 Func = ELU\n",
    "- 后一层参数定义\n",
    "\t- 多头注意力 K = 6\n",
    "\t- 使用求平均的方法\n",
    "\t- 用sigmoid函数做激活函数\n",
    "- 训练参数：\n",
    "\t- 数据量够大，不需要dropout\n",
    "\t- batch:2"
   ]
  },
  {
   "cell_type": "code",
   "execution_count": 54,
   "metadata": {},
   "outputs": [],
   "source": [
    "# TODO 代码实现Inductive部分的代码"
   ]
  },
  {
   "cell_type": "markdown",
   "metadata": {},
   "source": [
    "# 四、模型训练与测试"
   ]
  },
  {
   "cell_type": "markdown",
   "metadata": {},
   "source": [
    "![在这里插入图片描述](https://img-blog.csdnimg.cn/direct/1fcb1cf54d7d4bddbef9017bf03f6929.png)\n",
    "\n",
    "论文中给出了训练的参数设置如下：\n",
    "- 初始化：使用Glorot初始化方法来初始化模型参数比如$W$权重矩阵和$\\alpha$权重向量。\n",
    "- 优化器：使用Adam SGD优化器\n",
    "- 学习率：Pubmed是0.01，其他数据集是0.005\n",
    "- 训练轮次：100"
   ]
  },
  {
   "cell_type": "code",
   "execution_count": 55,
   "metadata": {},
   "outputs": [
    {
     "name": "stdout",
     "output_type": "stream",
     "text": [
      "device: cuda:0\n"
     ]
    },
    {
     "data": {
      "text/plain": [
       "True"
      ]
     },
     "execution_count": 55,
     "metadata": {},
     "output_type": "execute_result"
    }
   ],
   "source": [
    "# 如果有GPU就使用GPU加速训练\n",
    "device = torch.device('cuda:0' if torch.cuda.is_available() else 'cpu') # 本电脑只有一个GPU\n",
    "# 打印设备信息\n",
    "print('device:', device)\n",
    "torch.cuda.is_available()"
   ]
  },
  {
   "cell_type": "markdown",
   "metadata": {},
   "source": [
    "模型定义"
   ]
  },
  {
   "cell_type": "code",
   "execution_count": 56,
   "metadata": {},
   "outputs": [],
   "source": [
    "# 定义模型 \n",
    "model = GAT_Network(\n",
    "    feature_num=F, # 输入特征数量\n",
    "    out_feature=8, # 输出特征数量\n",
    "    class_num=7, # 分类数量\n",
    "    heads_num=8, # 多头注意力数量\n",
    "    dropout=0.6 # dropout概率\n",
    "    ).to(device)"
   ]
  },
  {
   "cell_type": "markdown",
   "metadata": {},
   "source": [
    "优化器定义"
   ]
  },
  {
   "cell_type": "code",
   "execution_count": 57,
   "metadata": {},
   "outputs": [],
   "source": [
    "# 定义优化器\n",
    "optimizer = torch.optim.Adam(\n",
    "    model.parameters(), \n",
    "    lr=0.005, \n",
    "    weight_decay=5e-4\n",
    "    ) # Adam优化器"
   ]
  },
  {
   "cell_type": "markdown",
   "metadata": {},
   "source": [
    "模型训练"
   ]
  },
  {
   "cell_type": "code",
   "execution_count": 58,
   "metadata": {},
   "outputs": [
    {
     "name": "stdout",
     "output_type": "stream",
     "text": [
      "Epoch: 0001 loss: 2.0574 time: 1.0850s\n",
      "Epoch: 0002 loss: 1.9513 time: 0.7530s\n",
      "Epoch: 0003 loss: 1.9248 time: 0.8578s\n",
      "Epoch: 0004 loss: 1.9453 time: 0.7556s\n",
      "Epoch: 0005 loss: 1.8925 time: 0.7560s\n",
      "Epoch: 0006 loss: 1.8710 time: 0.7557s\n",
      "Epoch: 0007 loss: 1.8744 time: 0.7573s\n",
      "Epoch: 0008 loss: 1.8541 time: 0.7520s\n",
      "Epoch: 0009 loss: 1.8392 time: 0.7534s\n",
      "Epoch: 0010 loss: 1.8387 time: 0.7512s\n",
      "Epoch: 0011 loss: 1.8276 time: 0.7588s\n",
      "Epoch: 0012 loss: 1.8021 time: 0.7516s\n",
      "Epoch: 0013 loss: 1.8193 time: 0.7556s\n",
      "Epoch: 0014 loss: 1.7886 time: 0.7532s\n",
      "Epoch: 0015 loss: 1.7861 time: 0.7562s\n",
      "Epoch: 0016 loss: 1.7779 time: 0.8409s\n",
      "Epoch: 0017 loss: 1.7641 time: 0.7560s\n",
      "Epoch: 0018 loss: 1.7558 time: 0.7520s\n",
      "Epoch: 0019 loss: 1.7634 time: 0.7552s\n",
      "Epoch: 0020 loss: 1.7448 time: 0.7542s\n",
      "Epoch: 0021 loss: 1.7247 time: 0.7569s\n",
      "Epoch: 0022 loss: 1.7282 time: 0.7546s\n",
      "Epoch: 0023 loss: 1.7262 time: 0.7569s\n",
      "Epoch: 0024 loss: 1.7258 time: 0.7518s\n",
      "Epoch: 0025 loss: 1.7356 time: 0.7571s\n",
      "Epoch: 0026 loss: 1.7296 time: 0.7552s\n",
      "Epoch: 0027 loss: 1.7080 time: 0.7567s\n",
      "Epoch: 0028 loss: 1.7124 time: 0.7524s\n",
      "Epoch: 0029 loss: 1.7223 time: 0.7548s\n",
      "Epoch: 0030 loss: 1.6917 time: 0.7503s\n",
      "Epoch: 0031 loss: 1.6986 time: 0.7552s\n",
      "Epoch: 0032 loss: 1.6893 time: 0.8437s\n",
      "Epoch: 0033 loss: 1.6757 time: 0.7560s\n",
      "Epoch: 0034 loss: 1.6849 time: 0.7529s\n",
      "Epoch: 0035 loss: 1.7138 time: 0.7560s\n",
      "Epoch: 0036 loss: 1.6782 time: 0.7565s\n",
      "Epoch: 0037 loss: 1.6790 time: 0.7560s\n",
      "Epoch: 0038 loss: 1.6929 time: 0.7545s\n",
      "Epoch: 0039 loss: 1.6904 time: 0.7570s\n",
      "Epoch: 0040 loss: 1.6946 time: 0.7551s\n",
      "Epoch: 0041 loss: 1.6797 time: 0.7549s\n",
      "Epoch: 0042 loss: 1.6909 time: 0.7547s\n",
      "Epoch: 0043 loss: 1.6612 time: 0.7575s\n",
      "Epoch: 0044 loss: 1.6695 time: 0.7522s\n",
      "Epoch: 0045 loss: 1.6815 time: 0.7547s\n",
      "Epoch: 0046 loss: 1.6807 time: 0.7560s\n",
      "Epoch: 0047 loss: 1.6746 time: 0.8425s\n",
      "Epoch: 0048 loss: 1.6834 time: 0.7530s\n",
      "Epoch: 0049 loss: 1.6819 time: 0.7559s\n",
      "Epoch: 0050 loss: 1.6597 time: 0.7524s\n",
      "Epoch: 0051 loss: 1.6713 time: 0.7544s\n",
      "Epoch: 0052 loss: 1.6691 time: 0.7525s\n",
      "Epoch: 0053 loss: 1.6829 time: 0.7592s\n",
      "Epoch: 0054 loss: 1.6589 time: 0.7540s\n",
      "Epoch: 0055 loss: 1.6819 time: 0.7545s\n",
      "Epoch: 0056 loss: 1.6675 time: 0.7522s\n",
      "Epoch: 0057 loss: 1.6313 time: 0.7568s\n",
      "Epoch: 0058 loss: 1.6576 time: 0.7515s\n",
      "Epoch: 0059 loss: 1.6520 time: 0.7553s\n",
      "Epoch: 0060 loss: 1.6303 time: 0.7504s\n",
      "Epoch: 0061 loss: 1.6412 time: 0.8445s\n",
      "Epoch: 0062 loss: 1.6321 time: 0.7522s\n",
      "Epoch: 0063 loss: 1.6269 time: 0.7553s\n",
      "Epoch: 0064 loss: 1.6364 time: 0.7514s\n",
      "Epoch: 0065 loss: 1.6369 time: 0.7578s\n",
      "Epoch: 0066 loss: 1.6543 time: 0.7559s\n",
      "Epoch: 0067 loss: 1.6588 time: 0.7566s\n",
      "Epoch: 0068 loss: 1.6509 time: 0.7536s\n",
      "Epoch: 0069 loss: 1.6624 time: 0.7586s\n",
      "Epoch: 0070 loss: 1.6439 time: 0.7551s\n",
      "Epoch: 0071 loss: 1.6522 time: 0.7544s\n",
      "Epoch: 0072 loss: 1.6361 time: 0.7561s\n",
      "Epoch: 0073 loss: 1.6666 time: 0.7570s\n",
      "Epoch: 0074 loss: 1.6570 time: 0.7524s\n",
      "Epoch: 0075 loss: 1.6273 time: 0.7572s\n",
      "Epoch: 0076 loss: 1.6589 time: 0.8369s\n",
      "Epoch: 0077 loss: 1.6506 time: 0.7556s\n",
      "Epoch: 0078 loss: 1.6371 time: 0.7536s\n",
      "Epoch: 0079 loss: 1.6439 time: 0.7606s\n",
      "Epoch: 0080 loss: 1.6526 time: 0.7528s\n",
      "Epoch: 0081 loss: 1.6375 time: 0.7576s\n",
      "Epoch: 0082 loss: 1.6584 time: 0.7497s\n",
      "Epoch: 0083 loss: 1.6333 time: 0.7570s\n",
      "Epoch: 0084 loss: 1.6355 time: 0.7535s\n",
      "Epoch: 0085 loss: 1.6293 time: 0.7579s\n",
      "Epoch: 0086 loss: 1.6351 time: 0.7503s\n",
      "Epoch: 0087 loss: 1.6561 time: 0.7567s\n",
      "Epoch: 0088 loss: 1.6372 time: 0.7515s\n",
      "Epoch: 0089 loss: 1.6485 time: 0.7580s\n",
      "Epoch: 0090 loss: 1.6299 time: 0.8429s\n",
      "Epoch: 0091 loss: 1.6493 time: 0.7551s\n",
      "Epoch: 0092 loss: 1.6522 time: 0.7568s\n",
      "Epoch: 0093 loss: 1.6261 time: 0.7546s\n",
      "Epoch: 0094 loss: 1.6530 time: 0.7533s\n",
      "Epoch: 0095 loss: 1.6500 time: 0.7610s\n",
      "Epoch: 0096 loss: 1.6329 time: 0.7518s\n",
      "Epoch: 0097 loss: 1.6239 time: 0.7542s\n",
      "Epoch: 0098 loss: 1.6276 time: 0.7541s\n",
      "Epoch: 0099 loss: 1.6181 time: 0.7575s\n",
      "Epoch: 0100 loss: 1.6179 time: 0.7522s\n"
     ]
    }
   ],
   "source": [
    "# 定义损失函数\n",
    "criterion = nn.CrossEntropyLoss() # 交叉熵损失函数\n",
    "\n",
    "# 定义训练集和测试集\n",
    "train_features = features\n",
    "train_labels = labels\n",
    "adj_matrix = adj_matrix.to(device)\n",
    "# 定义数据加载器\n",
    "train_loader = DataLoader(\n",
    "    TensorDataset(train_features, train_labels), \n",
    "    batch_size=2708, # 一次性加载所有的数据，也就是一次性将图结构加载进来\n",
    "    shuffle=True\n",
    "    ) # 数据加载器\n",
    "\n",
    "# 训练模型\n",
    "model.train() # 训练模式\n",
    "for epoch in range(100):\n",
    "    t = time.time()\n",
    "    for i, (data, label) in enumerate(train_loader):\n",
    "        data = data.to(device)\n",
    "        label = label.to(device)\n",
    "        optimizer.zero_grad()\n",
    "        output = model(data, adj_matrix)\n",
    "        loss = criterion(output, label) # 计算损失，这里是交叉熵损失\n",
    "        loss.backward()\n",
    "        optimizer.step()\n",
    "    print('Epoch: {:04d}'.format(epoch+1), 'loss: {:.4f}'.format(loss.item()), 'time: {:.4f}s'.format(time.time()-t))\n",
    "\n"
   ]
  },
  {
   "cell_type": "code",
   "execution_count": 59,
   "metadata": {},
   "outputs": [
    {
     "name": "stdout",
     "output_type": "stream",
     "text": [
      "Accuracy: 0.5366\n"
     ]
    }
   ],
   "source": [
    "# 测试模型预测准确率\n",
    "model.eval() # 测试模式\n",
    "output = model(features.to(device), adj_matrix)\n",
    "pred = output.max(1, keepdim=True)[1]\n",
    "correct = pred.eq(labels.to(device).view_as(pred)).sum().item()\n",
    "acc = correct / len(labels)\n",
    "print('Accuracy: {:.4f}'.format(acc))"
   ]
  }
 ],
 "metadata": {
  "kernelspec": {
   "display_name": "tf",
   "language": "python",
   "name": "python3"
  },
  "language_info": {
   "codemirror_mode": {
    "name": "ipython",
    "version": 3
   },
   "file_extension": ".py",
   "mimetype": "text/x-python",
   "name": "python",
   "nbconvert_exporter": "python",
   "pygments_lexer": "ipython3",
   "version": "3.9.19"
  }
 },
 "nbformat": 4,
 "nbformat_minor": 2
}
