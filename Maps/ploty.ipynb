{
 "cells": [
  {
   "cell_type": "code",
   "execution_count": 1,
   "metadata": {},
   "outputs": [],
   "source": [
    "import plotly.graph_objects as go \n",
    "import numpy as np \n",
    "import pandas as pd"
   ]
  },
  {
   "cell_type": "code",
   "execution_count": null,
   "metadata": {},
   "outputs": [],
   "source": [
    "sampledata = pd.DataFrame({'lat': 39 + np.random.rand(1000),\n",
    "                           'lon': 116+np.random.rand(1000), })\n",
    "sampledata\n",
    "\n",
    "\n"
   ]
  },
  {
   "cell_type": "code",
   "execution_count": null,
   "metadata": {},
   "outputs": [],
   "source": [
    "basemap_layer = [\n",
    "    dict(\n",
    "        below=\"traces\",\n",
    "        sourcetype=\"raster\",\n",
    "        sourceattribution=\"高德地图\",\n",
    "        source=[\n",
    "            \"http://wprd01.is.autonavi.com/appmaptile?x={x}&y={y}&z={z}&lang=zh_cn&size=1&scl=1&style=7\"\n",
    "        ]\n",
    "    )\n",
    "]\n",
    "\n",
    "mapbox_kargs = dict(\n",
    "    zoom=7,   # 这里的zoom代表地图瓦片缩放的等级，可以依次+1、-1试一试\n",
    "    center=dict(\n",
    "        lat=39.7, # 这里是设置你的地图的中心点，经纬度要设置好\n",
    "        lon=116.8,\n",
    "    ),\n",
    "    style=\"white-bg\",\n",
    "    layers=basemap_layer,\n",
    ")\n",
    "\n",
    "layout_kargs = dict(\n",
    "    autosize=False,\n",
    "    width=1000, # 这里设置的是输出的图的宽度和长度。\n",
    "    height=800,\n",
    "    margin=dict(\n",
    "        r=0, t=38, l=0, b=0, pad=0\n",
    "    ),\n",
    ")\n",
    "\n",
    "layout = go.Layout(\n",
    "    mapbox=mapbox_kargs,\n",
    "    **layout_kargs\n",
    ")\n",
    "fig = go.Figure(\n",
    "    data=go.Scattermapbox(lat=sampledata['lat'], # 这里依次传递经纬度给函数\n",
    "                            lon=sampledata['lon'],\n",
    "                            mode='markers',\n",
    "                            ),\n",
    "    layout=layout\n",
    ")\n",
    "fig.write_html(\"file083101.html\") # 将plotly保存为html文件，后续使用浏览器直接打开这个文件即可\n",
    "\n"
   ]
  }
 ],
 "metadata": {
  "kernelspec": {
   "display_name": "PL",
   "language": "python",
   "name": "python3"
  },
  "language_info": {
   "codemirror_mode": {
    "name": "ipython",
    "version": 3
   },
   "file_extension": ".py",
   "mimetype": "text/x-python",
   "name": "python",
   "nbconvert_exporter": "python",
   "pygments_lexer": "ipython3",
   "version": "3.11.8"
  }
 },
 "nbformat": 4,
 "nbformat_minor": 2
}
